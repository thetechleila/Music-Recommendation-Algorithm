{
 "cells": [
  {
   "cell_type": "markdown",
   "metadata": {},
   "source": [
    "# Report\n",
    "___"
   ]
  },
  {
   "cell_type": "markdown",
   "metadata": {},
   "source": [
    "#### 1. Which insights did you gain from your EDA? Were any columns highly correlated? \n",
    "*    #### If so, name them.\n",
    "___\n",
    "\n",
    "#### **Here are my insights:**\n",
    "\n",
    "* ####  The 2010s are the decade with the highest amount of songs released in the dataset with 5631 total compared to the starting decade of the 1950s in which 1,467 songs were released. \n",
    "\n",
    "* ####      **The *specific* year with the highest amount of songs released is 2017 with 660 total songs.**\n",
    "\n",
    "* ####  There aren't any songs in the dataset with an age of true 0.\n",
    "\n",
    "* ####  The total count of the absolute oldest songs in the dataset is: 51. This means that songs from 1950 account for just 0.00179% of all songs.\n",
    "\n",
    "* #### The majority of music in the dataset is relatively recent (closer to age 0, with release dates closer to 2019 than 1950 - the year at the start of the dataset.)\n",
    "\n",
    "* #### There are 3308 artists with more than one song and 2116 artists with just 1 song in the dataset.\n",
    "\n",
    "* #### The top 5 most popular artists in the dataset are: \n",
    "    * ####  Johnny Cash with 190 songs\n",
    "    * ####  Ella Fitzgerald with 188 songs\n",
    "    * ####  Dean Martin with 146 songs\n",
    "    * ####  Willie Nelson with 131 songs\n",
    "    * ####  George Jones with 107 songs\n",
    "\n",
    "\n",
    "* #### Sadness, Violence and World/Life account for 60.70% of all song topics in the dataset.\n",
    "    * #### Sadness = 6094 songs\n",
    "    * #### Violence = 5707 songs\n",
    "    * #### World/Life = 5419 songs\n",
    "\n",
    "* #### The 3 least common song topics are Night/Time, Romantic, and Feelings.\n",
    "\n",
    "* #### Feelings are the topic of 612 songs, only 2.2% of all songs. \n",
    "\n",
    "* #### The average word count per song is 73 words.\n",
    "\n",
    "* ####  Pop is the dominant genre overall and most pop songs in the dataset are from the 1990s and the 2010s.\n",
    "    * #### The 1950s have the lowest amount of pop songs.\n",
    "\n",
    "*  #### Hip Hop is the least prevalent genre in any decade, which makes sense as the genre was created in the 1980s.\n",
    "    * #### Thusly, Hip Hop is only present starting from the 1980s to 2010s\n",
    "    * #### The 2010s contain the majority of the Hip Hop songs in the dataset.\n",
    "\n",
    "* ####  The 2010s are the dominant decade for most genres **except** Country where most of the songs are from the 1980s and 1990s.\n",
    "\n",
    "* ####  The amount of Reggae songs in the dataset increases every decade.\n",
    "\n",
    "* ####  The 2010s is the most dominant decade for the \"Obscene\" and the \"Violence\" topics by far.\n",
    "  \n",
    "* ####  The amount of songs with Obscene subject matter steadily increases every decaded.\n",
    "\n",
    "* ####  1980 is the dominant decade for songs about sadness\n",
    "\n",
    "#### No columns were *highly* correlated (meaning no columns have >0.5 correlation between each other) except for the age column which has a predictable negative/inverse correlation with itself. \n",
    "\n",
    "#### There is a *moderate* correlation of .44 between *len* (a song's word count) and *obscene* (A score from 0 to 1 expressing how likely it is that this song’s lyrics have something to do with obscene content (money, rockstar-lifestyle, etc)). This may indicate that songs with obscene content trend closer towards the mean song length of 73 words than others."
   ]
  },
  {
   "cell_type": "markdown",
   "metadata": {},
   "source": [
    "____\n",
    "#### 2. How did you determine which columns to drop or keep? If your EDA informed this process, explain which insights you used to determine which columns were not needed. \n",
    "\n",
    "#### *These columns were dropped from the cleaned numeric test dataset:* 'artist_name', 'track_name', 'genre', 'topic', 'lyrics' and 'Unnamed:0'\n",
    "\n",
    "#### 'artist_name', 'track_name', 'genre', and 'topic' were dropped because they are categorical features expressed as strings. 'lyrics' in particular was dropped because it was not needed to conduct K-Means Clustering. 'Unnamed:0' was dropped because it was an indexing error\n",
    "___"
   ]
  },
  {
   "cell_type": "markdown",
   "metadata": {},
   "source": [
    "#### 3. What was the optimal number of clusters in your cluster model? Explain how you determined this value.\n",
    "\n",
    "#### The optimal number of clusters is 8 and was determined using scaled K-Means Clustering with PCA.\n",
    "\n",
    "#### The test data used 4 clusters because it contains 10 samples.\n",
    "\n",
    "___"
   ]
  },
  {
   "cell_type": "markdown",
   "metadata": {},
   "source": [
    "#### 4. Take a look at the respective songs that fell into the clusters. Describe these clusters in *human terms* to the best of your ability using the columns in your dataset (for example high-gospel songs, low-gospel songs, etc). \n",
    "\n",
    "#### Feel free to listen to these songs as well to get a sense of what nuance your algorithm picked up on.\n",
    "\n",
    "#### The algorithm was able to pick up on nuances in topic and genre quite nicely. During the training phase, 2 pop songs and 1 country song were grouped into the same cluster despite the genre and dominant topic differences. Upon listening to those 3 songs, it's clear that they all cover romantic relationships in various contexts.\n",
    "\n",
    "### In the testing phase, 4 songs (2 rock and 2 pop each with unique topics) were place in the same cluster. After listening to them, they have other musical elements that unite them."
   ]
  },
  {
   "cell_type": "markdown",
   "metadata": {},
   "source": [
    "___\n",
    "#### 5. Take a look at the clusters that your algorithm assigned to the test samples. Based on these clusters, which songs would you recommend to this user?\n",
    "\n",
    "#### Eso Beso by Paul Anka, Messin with My Mind by Randy Travis, Second Chance by Dennis Brown and Railway and Gun by Taste if they're going for the complexities of romance. \n",
    "\n",
    "#### Playing God by Paramore, Immune by Godsmack, Sister Luck by The Black Crowes, and Pistol Grip by Rage Against the Machine to get apped with some Rock music."
   ]
  }
 ],
 "metadata": {
  "language_info": {
   "name": "python"
  }
 },
 "nbformat": 4,
 "nbformat_minor": 2
}
