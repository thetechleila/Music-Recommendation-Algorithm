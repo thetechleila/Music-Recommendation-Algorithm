{
 "cells": [
  {
   "cell_type": "markdown",
   "metadata": {},
   "source": [
    "# Report\n",
    "___"
   ]
  },
  {
   "cell_type": "markdown",
   "metadata": {},
   "source": [
    "### I. Which insights did you gain from your EDA? Were any columns highly correlated? \n",
    "\n",
    "### If so, name them.\n",
    "___"
   ]
  },
  {
   "cell_type": "markdown",
   "metadata": {},
   "source": [
    "### II. How did you determine which columns to drop or keep? If your EDA informed this process, explain which insights you used to determine which columns were not needed. \n",
    "___"
   ]
  },
  {
   "cell_type": "markdown",
   "metadata": {},
   "source": [
    "### III. What was the optimal number of clusters in your cluster model? Explain how you determined this value.\n",
    "___"
   ]
  },
  {
   "cell_type": "markdown",
   "metadata": {},
   "source": [
    "### IV. Take a look at the respective songs that fell into the clusters. Describe these clusters in *human terms* to the best of your ability using the columns in your dataset (for example high-gospel songs, low-gospel songs, etc). \n",
    "\n",
    "### Feel free to listen to these songs as well to get a sense of what nuance your algorithm picked up on.\n",
    "___"
   ]
  },
  {
   "cell_type": "markdown",
   "metadata": {},
   "source": [
    "### V. Take a look at the clusters that your algorithm assigned to the test samples. Based on these clusters, which songs would you recommend to this user?\n",
    "___"
   ]
  }
 ],
 "metadata": {
  "language_info": {
   "name": "python"
  }
 },
 "nbformat": 4,
 "nbformat_minor": 2
}
